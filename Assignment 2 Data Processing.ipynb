{
 "cells": [
  {
   "cell_type": "code",
   "execution_count": 4,
   "metadata": {
    "scrolled": true
   },
   "outputs": [
    {
     "name": "stdout",
     "output_type": "stream",
     "text": [
      "Collecting pycountry\n",
      "  Using cached https://files.pythonhosted.org/packages/76/73/6f1a412f14f68c273feea29a6ea9b9f1e268177d32e0e69ad6790d306312/pycountry-20.7.3.tar.gz\n",
      "Building wheels for collected packages: pycountry\n",
      "  Building wheel for pycountry (setup.py): started\n",
      "  Building wheel for pycountry (setup.py): finished with status 'done'\n",
      "  Stored in directory: C:\\Users\\Leo Huang\\AppData\\Local\\pip\\Cache\\wheels\\33\\4e\\a6\\be297e6b83567e537bed9df4a93f8590ec01c1acfbcd405348\n",
      "Successfully built pycountry\n",
      "Installing collected packages: pycountry\n",
      "Successfully installed pycountry-20.7.3\n"
     ]
    }
   ],
   "source": [
    "import sys\n",
    "!pip install pycountry"
   ]
  },
  {
   "cell_type": "code",
   "execution_count": 12,
   "metadata": {},
   "outputs": [
    {
     "name": "stdout",
     "output_type": "stream",
     "text": [
      "Australia https://www.countryflags.io/AU/flat/64.png\n",
      "Austria https://www.countryflags.io/AT/flat/64.png\n",
      "Belgium https://www.countryflags.io/BE/flat/64.png\n",
      "Canada https://www.countryflags.io/CA/flat/64.png\n",
      "Czechia https://www.countryflags.io/CZ/flat/64.png\n",
      "Denmark https://www.countryflags.io/DK/flat/64.png\n",
      "Finland https://www.countryflags.io/FI/flat/64.png\n",
      "France https://www.countryflags.io/FR/flat/64.png\n",
      "Germany https://www.countryflags.io/DE/flat/64.png\n",
      "Greece https://www.countryflags.io/GR/flat/64.png\n",
      "Hungary https://www.countryflags.io/HU/flat/64.png\n",
      "Ireland https://www.countryflags.io/IE/flat/64.png\n",
      "Italy https://www.countryflags.io/IT/flat/64.png\n",
      "Japan https://www.countryflags.io/JP/flat/64.png\n",
      "Luxembourg https://www.countryflags.io/LU/flat/64.png\n",
      "Mexico https://www.countryflags.io/MX/flat/64.png\n",
      "Netherlands https://www.countryflags.io/NL/flat/64.png\n",
      "Norway https://www.countryflags.io/NO/flat/64.png\n",
      "Poland https://www.countryflags.io/PL/flat/64.png\n",
      "Portugal https://www.countryflags.io/PT/flat/64.png\n",
      "Slovakia https://www.countryflags.io/SK/flat/64.png\n",
      "Spain https://www.countryflags.io/ES/flat/64.png\n",
      "Sweden https://www.countryflags.io/SE/flat/64.png\n",
      "Switzerland https://www.countryflags.io/CH/flat/64.png\n",
      "Turkey https://www.countryflags.io/TR/flat/64.png\n",
      "United Kingdom https://www.countryflags.io/GB/flat/64.png\n",
      "United States https://www.countryflags.io/US/flat/64.png\n",
      "Chile https://www.countryflags.io/CL/flat/64.png\n",
      "Estonia https://www.countryflags.io/EE/flat/64.png\n",
      "Israel https://www.countryflags.io/IL/flat/64.png\n",
      "Slovenia https://www.countryflags.io/SI/flat/64.png\n",
      "Iceland https://www.countryflags.io/IS/flat/64.png\n",
      "Latvia https://www.countryflags.io/LV/flat/64.png\n",
      "Colombia https://www.countryflags.io/CO/flat/64.png\n",
      "Lithuania https://www.countryflags.io/LT/flat/64.png\n"
     ]
    }
   ],
   "source": [
    "import csv\n",
    "import pycountry\n",
    "\n",
    "rawfile = open(\"DP_LIVE_15072020084257292.csv\",\"r\")\n",
    "parsedfile = open(\"govdebt.csv\",\"w\")\n",
    "reader = csv.reader(rawfile)\n",
    "writer = csv.writer(parsedfile)\n",
    "govdebt = dict()\n",
    "for row in reader:\n",
    "    country = row[0]\n",
    "    if len(country) > 3:\n",
    "        continue\n",
    "    year = int(row[5])\n",
    "    ratio = float(row[6])\n",
    "    if 1995 <= year and year <= 2018:\n",
    "        ratios = govdebt.get(country)\n",
    "        if ratios is None:\n",
    "                ratios = [None for x  in range(24)]\n",
    "                govdebt[country] = ratios\n",
    "        ratios[year - 1995] = ratio\n",
    "rawfile.close()\n",
    "\n",
    "writer.writerow([\"Country\",\"Image URL\"] + [x + 1995 for x in range(24)])\n",
    "for country in govdebt.keys():\n",
    "    name = pycountry.countries.get(alpha_3 = country)\n",
    "    writer.writerow([name.name,\"https://www.countryflags.io/\"+name.alpha_2+\"/flat/64.png\"] + govdebt[country])\n",
    "    print(name.name,\"https://www.countryflags.io/\"+name.alpha_2+\"/flat/64.png\")\n",
    "parsedfile.close()\n",
    "    \n",
    "        \n",
    "    "
   ]
  },
  {
   "cell_type": "code",
   "execution_count": null,
   "metadata": {},
   "outputs": [],
   "source": []
  }
 ],
 "metadata": {
  "kernelspec": {
   "display_name": "Python 3",
   "language": "python",
   "name": "python3"
  },
  "language_info": {
   "codemirror_mode": {
    "name": "ipython",
    "version": 3
   },
   "file_extension": ".py",
   "mimetype": "text/x-python",
   "name": "python",
   "nbconvert_exporter": "python",
   "pygments_lexer": "ipython3",
   "version": "3.7.3"
  }
 },
 "nbformat": 4,
 "nbformat_minor": 2
}
